{
 "cells": [
  {
   "cell_type": "code",
   "execution_count": 19,
   "metadata": {},
   "outputs": [],
   "source": [
    "import pandas as pd\n",
    "import matplotlib.pyplot as plt\n",
    "from json import loads, dumps\n",
    "import os, json\n"
   ]
  },
  {
   "cell_type": "code",
   "execution_count": 28,
   "metadata": {},
   "outputs": [
    {
     "data": {
      "text/html": [
       "<div>\n",
       "<style scoped>\n",
       "    .dataframe tbody tr th:only-of-type {\n",
       "        vertical-align: middle;\n",
       "    }\n",
       "\n",
       "    .dataframe tbody tr th {\n",
       "        vertical-align: top;\n",
       "    }\n",
       "\n",
       "    .dataframe thead th {\n",
       "        text-align: right;\n",
       "    }\n",
       "</style>\n",
       "<table border=\"1\" class=\"dataframe\">\n",
       "  <thead>\n",
       "    <tr style=\"text-align: right;\">\n",
       "      <th></th>\n",
       "      <th>sent_id</th>\n",
       "      <th>raw_words</th>\n",
       "      <th>words</th>\n",
       "      <th>aspects</th>\n",
       "      <th>holder</th>\n",
       "      <th>opinions</th>\n",
       "    </tr>\n",
       "  </thead>\n",
       "  <tbody>\n",
       "    <tr>\n",
       "      <th>0</th>\n",
       "      <td>DeVry_University_94_07-02-2004-1</td>\n",
       "      <td>NA Don't listen to above post .</td>\n",
       "      <td>[NA, Don't, listen, to, above, post, .]</td>\n",
       "      <td>[{'index': 0, 'from': 0, 'to': 1, 'term': 'NA'...</td>\n",
       "      <td>[{'index': 0, 'from': 0, 'to': 1, 'term': 'NA'}]</td>\n",
       "      <td>[{'index': 0, 'from': 0, 'to': 1, 'term': 'NA'}]</td>\n",
       "    </tr>\n",
       "    <tr>\n",
       "      <th>1</th>\n",
       "      <td>DeVry_University_94_07-02-2004-2</td>\n",
       "      <td>NA This school is all about the money</td>\n",
       "      <td>[NA, This, school, is, all, about, the, money]</td>\n",
       "      <td>[{'index': 0, 'from': 2, 'to': 3, 'term': 'sch...</td>\n",
       "      <td>[{'index': 0, 'from': 0, 'to': 1, 'term': 'NA'}]</td>\n",
       "      <td>[{'index': 0, 'from': 4, 'to': 5, 'term': 'all'}]</td>\n",
       "    </tr>\n",
       "    <tr>\n",
       "      <th>2</th>\n",
       "      <td>DeVry_University_94_07-02-2004-3</td>\n",
       "      <td>NA The education is less than stellar for the ...</td>\n",
       "      <td>[NA, The, education, is, less, than, stellar, ...</td>\n",
       "      <td>[{'index': 0, 'from': 2, 'to': 3, 'term': 'edu...</td>\n",
       "      <td>[{'index': 0, 'from': 0, 'to': 1, 'term': 'NA'}]</td>\n",
       "      <td>[{'index': 0, 'from': 4, 'to': 6, 'term': 'les...</td>\n",
       "    </tr>\n",
       "    <tr>\n",
       "      <th>3</th>\n",
       "      <td>DeVry_University_94_07-02-2004-4</td>\n",
       "      <td>NA A community college offers better than this...</td>\n",
       "      <td>[NA, A, community, college, offers, better, th...</td>\n",
       "      <td>[{'index': 0, 'from': 0, 'to': 1, 'term': 'NA'...</td>\n",
       "      <td>[{'index': 0, 'from': 0, 'to': 1, 'term': 'NA'}]</td>\n",
       "      <td>[{'index': 0, 'from': 0, 'to': 1, 'term': 'NA'}]</td>\n",
       "    </tr>\n",
       "    <tr>\n",
       "      <th>4</th>\n",
       "      <td>DeVry_University_94_07-02-2004-5</td>\n",
       "      <td>NA Here you pay 6k a semester as compared to 3...</td>\n",
       "      <td>[NA, Here, you, pay, 6k, a, semester, as, comp...</td>\n",
       "      <td>[{'index': 0, 'from': 0, 'to': 1, 'term': 'NA'...</td>\n",
       "      <td>[{'index': 0, 'from': 0, 'to': 1, 'term': 'NA'}]</td>\n",
       "      <td>[{'index': 0, 'from': 0, 'to': 1, 'term': 'NA'}]</td>\n",
       "    </tr>\n",
       "    <tr>\n",
       "      <th>...</th>\n",
       "      <td>...</td>\n",
       "      <td>...</td>\n",
       "      <td>...</td>\n",
       "      <td>...</td>\n",
       "      <td>...</td>\n",
       "      <td>...</td>\n",
       "    </tr>\n",
       "    <tr>\n",
       "      <th>4347</th>\n",
       "      <td>opener_en/kaf/hotel/english00011_0b57ac0ca8569...</td>\n",
       "      <td>NA Golf courses can be easily reached from the...</td>\n",
       "      <td>[NA, Golf, courses, can, be, easily, reached, ...</td>\n",
       "      <td>[{'index': 0, 'from': 11, 'to': 13, 'term': 't...</td>\n",
       "      <td>[{'index': 0, 'from': 0, 'to': 1, 'term': 'NA'...</td>\n",
       "      <td>[{'index': 0, 'from': 17, 'to': 18, 'term': 'o...</td>\n",
       "    </tr>\n",
       "    <tr>\n",
       "      <th>4348</th>\n",
       "      <td>opener_en/kaf/hotel/english00011_0b57ac0ca8569...</td>\n",
       "      <td>NA Hotel offers nice spa , large pool area and...</td>\n",
       "      <td>[NA, Hotel, offers, nice, spa, ,, large, pool,...</td>\n",
       "      <td>[{'index': 0, 'from': 1, 'to': 2, 'term': 'Hot...</td>\n",
       "      <td>[{'index': 0, 'from': 0, 'to': 1, 'term': 'NA'...</td>\n",
       "      <td>[{'index': 0, 'from': 2, 'to': 3, 'term': 'off...</td>\n",
       "    </tr>\n",
       "    <tr>\n",
       "      <th>4349</th>\n",
       "      <td>opener_en/kaf/hotel/english00011_0b57ac0ca8569...</td>\n",
       "      <td>NA Hospitality and services at the highest lev...</td>\n",
       "      <td>[NA, Hospitality, and, services, at, the, high...</td>\n",
       "      <td>[{'index': 0, 'from': 1, 'to': 2, 'term': 'Hos...</td>\n",
       "      <td>[{'index': 0, 'from': 0, 'to': 1, 'term': 'NA'...</td>\n",
       "      <td>[{'index': 0, 'from': 4, 'to': 8, 'term': 'at ...</td>\n",
       "    </tr>\n",
       "    <tr>\n",
       "      <th>4350</th>\n",
       "      <td>opener_en/kaf/hotel/english00011_0b57ac0ca8569...</td>\n",
       "      <td>NA I will definitely come back !</td>\n",
       "      <td>[NA, I, will, definitely, come, back, !]</td>\n",
       "      <td>[{'index': 0, 'from': 0, 'to': 1, 'term': 'NA'...</td>\n",
       "      <td>[{'index': 0, 'from': 1, 'to': 2, 'term': 'I'}]</td>\n",
       "      <td>[{'index': 0, 'from': 2, 'to': 7, 'term': 'wil...</td>\n",
       "    </tr>\n",
       "    <tr>\n",
       "      <th>4351</th>\n",
       "      <td>opener_en/kaf/hotel/english00032_30ddf6dff464d...</td>\n",
       "      <td>NA Best in class</td>\n",
       "      <td>[NA, Best, in, class]</td>\n",
       "      <td>[{'index': 0, 'from': 0, 'to': 1, 'term': 'NA'...</td>\n",
       "      <td>[{'index': 0, 'from': 0, 'to': 1, 'term': 'NA'}]</td>\n",
       "      <td>[{'index': 0, 'from': 1, 'to': 2, 'term': 'Bes...</td>\n",
       "    </tr>\n",
       "  </tbody>\n",
       "</table>\n",
       "<p>4352 rows × 6 columns</p>\n",
       "</div>"
      ],
      "text/plain": [
       "                                                sent_id  \\\n",
       "0                      DeVry_University_94_07-02-2004-1   \n",
       "1                      DeVry_University_94_07-02-2004-2   \n",
       "2                      DeVry_University_94_07-02-2004-3   \n",
       "3                      DeVry_University_94_07-02-2004-4   \n",
       "4                      DeVry_University_94_07-02-2004-5   \n",
       "...                                                 ...   \n",
       "4347  opener_en/kaf/hotel/english00011_0b57ac0ca8569...   \n",
       "4348  opener_en/kaf/hotel/english00011_0b57ac0ca8569...   \n",
       "4349  opener_en/kaf/hotel/english00011_0b57ac0ca8569...   \n",
       "4350  opener_en/kaf/hotel/english00011_0b57ac0ca8569...   \n",
       "4351  opener_en/kaf/hotel/english00032_30ddf6dff464d...   \n",
       "\n",
       "                                              raw_words  \\\n",
       "0                       NA Don't listen to above post .   \n",
       "1                 NA This school is all about the money   \n",
       "2     NA The education is less than stellar for the ...   \n",
       "3     NA A community college offers better than this...   \n",
       "4     NA Here you pay 6k a semester as compared to 3...   \n",
       "...                                                 ...   \n",
       "4347  NA Golf courses can be easily reached from the...   \n",
       "4348  NA Hotel offers nice spa , large pool area and...   \n",
       "4349  NA Hospitality and services at the highest lev...   \n",
       "4350                   NA I will definitely come back !   \n",
       "4351                                   NA Best in class   \n",
       "\n",
       "                                                  words  \\\n",
       "0               [NA, Don't, listen, to, above, post, .]   \n",
       "1        [NA, This, school, is, all, about, the, money]   \n",
       "2     [NA, The, education, is, less, than, stellar, ...   \n",
       "3     [NA, A, community, college, offers, better, th...   \n",
       "4     [NA, Here, you, pay, 6k, a, semester, as, comp...   \n",
       "...                                                 ...   \n",
       "4347  [NA, Golf, courses, can, be, easily, reached, ...   \n",
       "4348  [NA, Hotel, offers, nice, spa, ,, large, pool,...   \n",
       "4349  [NA, Hospitality, and, services, at, the, high...   \n",
       "4350           [NA, I, will, definitely, come, back, !]   \n",
       "4351                              [NA, Best, in, class]   \n",
       "\n",
       "                                                aspects  \\\n",
       "0     [{'index': 0, 'from': 0, 'to': 1, 'term': 'NA'...   \n",
       "1     [{'index': 0, 'from': 2, 'to': 3, 'term': 'sch...   \n",
       "2     [{'index': 0, 'from': 2, 'to': 3, 'term': 'edu...   \n",
       "3     [{'index': 0, 'from': 0, 'to': 1, 'term': 'NA'...   \n",
       "4     [{'index': 0, 'from': 0, 'to': 1, 'term': 'NA'...   \n",
       "...                                                 ...   \n",
       "4347  [{'index': 0, 'from': 11, 'to': 13, 'term': 't...   \n",
       "4348  [{'index': 0, 'from': 1, 'to': 2, 'term': 'Hot...   \n",
       "4349  [{'index': 0, 'from': 1, 'to': 2, 'term': 'Hos...   \n",
       "4350  [{'index': 0, 'from': 0, 'to': 1, 'term': 'NA'...   \n",
       "4351  [{'index': 0, 'from': 0, 'to': 1, 'term': 'NA'...   \n",
       "\n",
       "                                                 holder  \\\n",
       "0      [{'index': 0, 'from': 0, 'to': 1, 'term': 'NA'}]   \n",
       "1      [{'index': 0, 'from': 0, 'to': 1, 'term': 'NA'}]   \n",
       "2      [{'index': 0, 'from': 0, 'to': 1, 'term': 'NA'}]   \n",
       "3      [{'index': 0, 'from': 0, 'to': 1, 'term': 'NA'}]   \n",
       "4      [{'index': 0, 'from': 0, 'to': 1, 'term': 'NA'}]   \n",
       "...                                                 ...   \n",
       "4347  [{'index': 0, 'from': 0, 'to': 1, 'term': 'NA'...   \n",
       "4348  [{'index': 0, 'from': 0, 'to': 1, 'term': 'NA'...   \n",
       "4349  [{'index': 0, 'from': 0, 'to': 1, 'term': 'NA'...   \n",
       "4350    [{'index': 0, 'from': 1, 'to': 2, 'term': 'I'}]   \n",
       "4351   [{'index': 0, 'from': 0, 'to': 1, 'term': 'NA'}]   \n",
       "\n",
       "                                               opinions  \n",
       "0      [{'index': 0, 'from': 0, 'to': 1, 'term': 'NA'}]  \n",
       "1     [{'index': 0, 'from': 4, 'to': 5, 'term': 'all'}]  \n",
       "2     [{'index': 0, 'from': 4, 'to': 6, 'term': 'les...  \n",
       "3      [{'index': 0, 'from': 0, 'to': 1, 'term': 'NA'}]  \n",
       "4      [{'index': 0, 'from': 0, 'to': 1, 'term': 'NA'}]  \n",
       "...                                                 ...  \n",
       "4347  [{'index': 0, 'from': 17, 'to': 18, 'term': 'o...  \n",
       "4348  [{'index': 0, 'from': 2, 'to': 3, 'term': 'off...  \n",
       "4349  [{'index': 0, 'from': 4, 'to': 8, 'term': 'at ...  \n",
       "4350  [{'index': 0, 'from': 2, 'to': 7, 'term': 'wil...  \n",
       "4351  [{'index': 0, 'from': 1, 'to': 2, 'term': 'Bes...  \n",
       "\n",
       "[4352 rows x 6 columns]"
      ]
     },
     "execution_count": 28,
     "metadata": {},
     "output_type": "execute_result"
    }
   ],
   "source": [
    "# datas = ['multibooked_ca','multibooked_eu','norec','opener_es','darmstadt_unis','mpqa', 'opener_en']\n",
    "datas = ['darmstadt_unis']\n",
    "\n",
    "df1 = [pd.read_json(f\"../../final_data/{i}/train_convert.json\") for i in datas]\n",
    "df = pd.concat(df1)\n",
    "df.reset_index(drop=True)"
   ]
  },
  {
   "cell_type": "code",
   "execution_count": 29,
   "metadata": {},
   "outputs": [
    {
     "data": {
      "text/html": [
       "<div>\n",
       "<style scoped>\n",
       "    .dataframe tbody tr th:only-of-type {\n",
       "        vertical-align: middle;\n",
       "    }\n",
       "\n",
       "    .dataframe tbody tr th {\n",
       "        vertical-align: top;\n",
       "    }\n",
       "\n",
       "    .dataframe thead th {\n",
       "        text-align: right;\n",
       "    }\n",
       "</style>\n",
       "<table border=\"1\" class=\"dataframe\">\n",
       "  <thead>\n",
       "    <tr style=\"text-align: right;\">\n",
       "      <th></th>\n",
       "      <th>text_len</th>\n",
       "    </tr>\n",
       "  </thead>\n",
       "  <tbody>\n",
       "    <tr>\n",
       "      <th>count</th>\n",
       "      <td>4352.000000</td>\n",
       "    </tr>\n",
       "    <tr>\n",
       "      <th>mean</th>\n",
       "      <td>115.937040</td>\n",
       "    </tr>\n",
       "    <tr>\n",
       "      <th>std</th>\n",
       "      <td>81.162294</td>\n",
       "    </tr>\n",
       "    <tr>\n",
       "      <th>min</th>\n",
       "      <td>4.000000</td>\n",
       "    </tr>\n",
       "    <tr>\n",
       "      <th>25%</th>\n",
       "      <td>56.000000</td>\n",
       "    </tr>\n",
       "    <tr>\n",
       "      <th>50%</th>\n",
       "      <td>98.000000</td>\n",
       "    </tr>\n",
       "    <tr>\n",
       "      <th>75%</th>\n",
       "      <td>160.000000</td>\n",
       "    </tr>\n",
       "    <tr>\n",
       "      <th>max</th>\n",
       "      <td>1142.000000</td>\n",
       "    </tr>\n",
       "  </tbody>\n",
       "</table>\n",
       "</div>"
      ],
      "text/plain": [
       "          text_len\n",
       "count  4352.000000\n",
       "mean    115.937040\n",
       "std      81.162294\n",
       "min       4.000000\n",
       "25%      56.000000\n",
       "50%      98.000000\n",
       "75%     160.000000\n",
       "max    1142.000000"
      ]
     },
     "execution_count": 29,
     "metadata": {},
     "output_type": "execute_result"
    }
   ],
   "source": [
    "df['text_len'] = df['raw_words'].apply(lambda x: len(x)-3)\n",
    "df.describe()\n",
    "\n",
    "# df[df['sent_id'] == \"DeVry_University_94_07-02-2004-1\"]"
   ]
  },
  {
   "cell_type": "code",
   "execution_count": 18,
   "metadata": {},
   "outputs": [
    {
     "name": "stdout",
     "output_type": "stream",
     "text": [
      "multibooked_ca t1\n",
      "       opinion_cnt\n",
      "count  1174.000000\n",
      "mean      1.694208\n",
      "std       1.648896\n",
      "min       0.000000\n",
      "25%       1.000000\n",
      "50%       1.000000\n",
      "75%       2.000000\n",
      "max      22.000000 \n",
      "\n",
      "multibooked_ca d1\n",
      "       opinion_cnt\n",
      "count   167.000000\n",
      "mean      1.544910\n",
      "std       1.748344\n",
      "min       0.000000\n",
      "25%       1.000000\n",
      "50%       1.000000\n",
      "75%       2.000000\n",
      "max      17.000000 \n",
      "\n",
      "multibooked_ca f1\n",
      "       opinion_cnt\n",
      "count   335.000000\n",
      "mean      1.561194\n",
      "std       1.300041\n",
      "min       0.000000\n",
      "25%       1.000000\n",
      "50%       1.000000\n",
      "75%       2.000000\n",
      "max       8.000000 \n",
      "\n",
      "=============================================\n",
      "multibooked_eu t1\n",
      "       opinion_cnt\n",
      "count  1063.000000\n",
      "mean      1.579492\n",
      "std       1.455890\n",
      "min       0.000000\n",
      "25%       1.000000\n",
      "50%       1.000000\n",
      "75%       2.000000\n",
      "max      15.000000 \n",
      "\n",
      "multibooked_eu d1\n",
      "       opinion_cnt\n",
      "count   152.000000\n",
      "mean      1.335526\n",
      "std       1.173347\n",
      "min       0.000000\n",
      "25%       1.000000\n",
      "50%       1.000000\n",
      "75%       2.000000\n",
      "max       7.000000 \n",
      "\n",
      "multibooked_eu f1\n",
      "       opinion_cnt\n",
      "count   305.000000\n",
      "mean      1.432787\n",
      "std       1.260316\n",
      "min       0.000000\n",
      "25%       1.000000\n",
      "50%       1.000000\n",
      "75%       2.000000\n",
      "max       6.000000 \n",
      "\n",
      "=============================================\n",
      "norec t1\n",
      "       opinion_cnt\n",
      "count  8634.000000\n",
      "mean      0.978457\n",
      "std       1.306676\n",
      "min       0.000000\n",
      "25%       0.000000\n",
      "50%       1.000000\n",
      "75%       1.000000\n",
      "max      15.000000 \n",
      "\n",
      "norec d1\n",
      "       opinion_cnt\n",
      "count  1531.000000\n",
      "mean      0.935336\n",
      "std       1.148058\n",
      "min       0.000000\n",
      "25%       0.000000\n",
      "50%       1.000000\n",
      "75%       1.000000\n",
      "max       7.000000 \n",
      "\n",
      "norec f1\n",
      "       opinion_cnt\n",
      "count  1272.000000\n",
      "mean      0.970912\n",
      "std       1.251883\n",
      "min       0.000000\n",
      "25%       0.000000\n",
      "50%       1.000000\n",
      "75%       2.000000\n",
      "max      10.000000 \n",
      "\n",
      "=============================================\n",
      "opener_es t1\n",
      "       opinion_cnt\n",
      "count  1438.000000\n",
      "mean      2.115438\n",
      "std       2.227624\n",
      "min       0.000000\n",
      "25%       1.000000\n",
      "50%       2.000000\n",
      "75%       3.000000\n",
      "max      26.000000 \n",
      "\n",
      "opener_es d1\n",
      "       opinion_cnt\n",
      "count   206.000000\n",
      "mean      1.878641\n",
      "std       1.802391\n",
      "min       0.000000\n",
      "25%       1.000000\n",
      "50%       1.000000\n",
      "75%       2.000000\n",
      "max      11.000000 \n",
      "\n",
      "opener_es f1\n",
      "       opinion_cnt\n",
      "count   410.000000\n",
      "mean      2.334146\n",
      "std       2.443104\n",
      "min       0.000000\n",
      "25%       1.000000\n",
      "50%       1.000000\n",
      "75%       3.000000\n",
      "max      17.000000 \n",
      "\n",
      "=============================================\n",
      "darmstadt_unis t1\n",
      "       opinion_cnt\n",
      "count  2253.000000\n",
      "mean      0.357745\n",
      "std       0.608429\n",
      "min       0.000000\n",
      "25%       0.000000\n",
      "50%       0.000000\n",
      "75%       1.000000\n",
      "max       5.000000 \n",
      "\n",
      "darmstadt_unis d1\n",
      "       opinion_cnt\n",
      "count   232.000000\n",
      "mean      0.422414\n",
      "std       0.639952\n",
      "min       0.000000\n",
      "25%       0.000000\n",
      "50%       0.000000\n",
      "75%       1.000000\n",
      "max       3.000000 \n",
      "\n",
      "darmstadt_unis f1\n",
      "       opinion_cnt\n",
      "count   318.000000\n",
      "mean      0.408805\n",
      "std       0.671303\n",
      "min       0.000000\n",
      "25%       0.000000\n",
      "50%       0.000000\n",
      "75%       1.000000\n",
      "max       4.000000 \n",
      "\n",
      "=============================================\n",
      "mpqa t1\n",
      "       opinion_cnt\n",
      "count  5643.000000\n",
      "mean      0.302321\n",
      "std       0.653873\n",
      "min       0.000000\n",
      "25%       0.000000\n",
      "50%       0.000000\n",
      "75%       0.000000\n",
      "max       8.000000 \n",
      "\n",
      "mpqa d1\n",
      "       opinion_cnt\n",
      "count  1997.000000\n",
      "mean      0.285428\n",
      "std       0.655372\n",
      "min       0.000000\n",
      "25%       0.000000\n",
      "50%       0.000000\n",
      "75%       0.000000\n",
      "max       7.000000 \n",
      "\n",
      "mpqa f1\n",
      "       opinion_cnt\n",
      "count  2055.000000\n",
      "mean      0.252068\n",
      "std       0.589352\n",
      "min       0.000000\n",
      "25%       0.000000\n",
      "50%       0.000000\n",
      "75%       0.000000\n",
      "max       5.000000 \n",
      "\n",
      "=============================================\n",
      "opener_en t1\n",
      "       opinion_cnt\n",
      "count  1744.000000\n",
      "mean      1.653670\n",
      "std       1.618315\n",
      "min       0.000000\n",
      "25%       1.000000\n",
      "50%       1.000000\n",
      "75%       2.000000\n",
      "max      17.000000 \n",
      "\n",
      "opener_en d1\n",
      "       opinion_cnt\n",
      "count   249.000000\n",
      "mean      1.606426\n",
      "std       1.544279\n",
      "min       0.000000\n",
      "25%       1.000000\n",
      "50%       1.000000\n",
      "75%       2.000000\n",
      "max      13.000000 \n",
      "\n",
      "opener_en f1\n",
      "       opinion_cnt\n",
      "count   499.000000\n",
      "mean      1.733467\n",
      "std       1.860362\n",
      "min       0.000000\n",
      "25%       1.000000\n",
      "50%       1.000000\n",
      "75%       2.000000\n",
      "max      18.000000 \n",
      "\n",
      "=============================================\n"
     ]
    }
   ],
   "source": [
    "datas = ['multibooked_ca','multibooked_eu','norec','opener_es','darmstadt_unis','mpqa', 'opener_en']\n",
    "\n",
    "for data in datas:\n",
    "    df = pd.read_json(f\"../../final_data/{data}/t1.json\")\n",
    "    df['opinion_cnt'] = df['opinions'].apply(lambda x: len(x))\n",
    "    print(data, \"t1\")\n",
    "    print(df.describe(), \"\\n\")\n",
    "\n",
    "    df1 = pd.read_json(f\"../../final_data/{data}/d1.json\")\n",
    "    df1['opinion_cnt'] = df1['opinions'].apply(lambda x: len(x))\n",
    "    print(data, \"d1\")\n",
    "    print(df1.describe(), \"\\n\")\n",
    "\n",
    "    df2 = pd.read_json(f\"../../final_data/{data}/f1.json\")\n",
    "    df2['opinion_cnt'] = df2['opinions'].apply(lambda x: len(x))\n",
    "    print(data, \"f1\")\n",
    "    print(df2.describe(), \"\\n\")\n",
    "\n",
    "    print(\"=============================================\")\n",
    "\n",
    "\n",
    "# df1 = [pd.read_json(f\"../../final_data/{i}/t1.json\") for i in datas]\n",
    "# df = pd.concat(df1)\n",
    "# df.reset_index(drop=True)"
   ]
  },
  {
   "cell_type": "code",
   "execution_count": 23,
   "metadata": {},
   "outputs": [
    {
     "name": "stdout",
     "output_type": "stream",
     "text": [
      "darmstadt_unis\n"
     ]
    },
    {
     "ename": "KeyError",
     "evalue": "'text'",
     "output_type": "error",
     "traceback": [
      "\u001b[1;31m---------------------------------------------------------------------------\u001b[0m",
      "\u001b[1;31mKeyError\u001b[0m                                  Traceback (most recent call last)",
      "\u001b[1;32md:\\proj\\tugas-akhir1\\BARTABSA\\final_data\\new_data\\test.ipynb Cell 4\u001b[0m in \u001b[0;36m<module>\u001b[1;34m\u001b[0m\n\u001b[0;32m     <a href='vscode-notebook-cell:/d%3A/proj/tugas-akhir1/BARTABSA/final_data/new_data/test.ipynb#X15sZmlsZQ%3D%3D?line=15'>16</a>\u001b[0m \u001b[39mwith\u001b[39;00m \u001b[39mopen\u001b[39m(\u001b[39mf\u001b[39m\u001b[39m'\u001b[39m\u001b[39m../../final_data/\u001b[39m\u001b[39m{\u001b[39;00mfolder\u001b[39m}\u001b[39;00m\u001b[39m/f1.json\u001b[39m\u001b[39m'\u001b[39m) \u001b[39mas\u001b[39;00m f: test \u001b[39m=\u001b[39m json\u001b[39m.\u001b[39mload(f)\n\u001b[0;32m     <a href='vscode-notebook-cell:/d%3A/proj/tugas-akhir1/BARTABSA/final_data/new_data/test.ipynb#X15sZmlsZQ%3D%3D?line=16'>17</a>\u001b[0m \u001b[39m# print(f'{len(train)}, {len(dev)}, {len(test)}')\u001b[39;00m\n\u001b[1;32m---> <a href='vscode-notebook-cell:/d%3A/proj/tugas-akhir1/BARTABSA/final_data/new_data/test.ipynb#X15sZmlsZQ%3D%3D?line=17'>18</a>\u001b[0m \u001b[39mprint\u001b[39m(get_lengths(folder, train, \u001b[39m'\u001b[39;49m\u001b[39mtrain\u001b[39;49m\u001b[39m'\u001b[39;49m), get_lengths(folder, dev), get_lengths(folder, test))\n\u001b[0;32m     <a href='vscode-notebook-cell:/d%3A/proj/tugas-akhir1/BARTABSA/final_data/new_data/test.ipynb#X15sZmlsZQ%3D%3D?line=18'>19</a>\u001b[0m \u001b[39mprint\u001b[39m()\n",
      "\u001b[1;32md:\\proj\\tugas-akhir1\\BARTABSA\\final_data\\new_data\\test.ipynb Cell 4\u001b[0m in \u001b[0;36mget_lengths\u001b[1;34m(folder, sentences, typ)\u001b[0m\n\u001b[0;32m      <a href='vscode-notebook-cell:/d%3A/proj/tugas-akhir1/BARTABSA/final_data/new_data/test.ipynb#X15sZmlsZQ%3D%3D?line=4'>5</a>\u001b[0m \u001b[39mdef\u001b[39;00m \u001b[39mget_lengths\u001b[39m(folder, sentences, typ\u001b[39m=\u001b[39m\u001b[39mNone\u001b[39;00m):\n\u001b[1;32m----> <a href='vscode-notebook-cell:/d%3A/proj/tugas-akhir1/BARTABSA/final_data/new_data/test.ipynb#X15sZmlsZQ%3D%3D?line=5'>6</a>\u001b[0m     lens \u001b[39m=\u001b[39m [\u001b[39mlen\u001b[39m(i[\u001b[39m'\u001b[39m\u001b[39mtext\u001b[39m\u001b[39m'\u001b[39m]) \u001b[39mfor\u001b[39;00m i \u001b[39min\u001b[39;00m sentences]\n\u001b[0;32m      <a href='vscode-notebook-cell:/d%3A/proj/tugas-akhir1/BARTABSA/final_data/new_data/test.ipynb#X15sZmlsZQ%3D%3D?line=6'>7</a>\u001b[0m     \u001b[39mif\u001b[39;00m typ \u001b[39mis\u001b[39;00m \u001b[39mnot\u001b[39;00m \u001b[39mNone\u001b[39;00m: plts_lst\u001b[39m.\u001b[39mappend([lens, folder])\n\u001b[0;32m      <a href='vscode-notebook-cell:/d%3A/proj/tugas-akhir1/BARTABSA/final_data/new_data/test.ipynb#X15sZmlsZQ%3D%3D?line=7'>8</a>\u001b[0m     \u001b[39mreturn\u001b[39;00m [\u001b[39mmin\u001b[39m(lens), \u001b[39mround\u001b[39m(\u001b[39msum\u001b[39m(lens)\u001b[39m/\u001b[39m\u001b[39mlen\u001b[39m(lens), \u001b[39m2\u001b[39m), \u001b[39mmax\u001b[39m(lens)]\n",
      "\u001b[1;32md:\\proj\\tugas-akhir1\\BARTABSA\\final_data\\new_data\\test.ipynb Cell 4\u001b[0m in \u001b[0;36m<listcomp>\u001b[1;34m(.0)\u001b[0m\n\u001b[0;32m      <a href='vscode-notebook-cell:/d%3A/proj/tugas-akhir1/BARTABSA/final_data/new_data/test.ipynb#X15sZmlsZQ%3D%3D?line=4'>5</a>\u001b[0m \u001b[39mdef\u001b[39;00m \u001b[39mget_lengths\u001b[39m(folder, sentences, typ\u001b[39m=\u001b[39m\u001b[39mNone\u001b[39;00m):\n\u001b[1;32m----> <a href='vscode-notebook-cell:/d%3A/proj/tugas-akhir1/BARTABSA/final_data/new_data/test.ipynb#X15sZmlsZQ%3D%3D?line=5'>6</a>\u001b[0m     lens \u001b[39m=\u001b[39m [\u001b[39mlen\u001b[39m(i[\u001b[39m'\u001b[39;49m\u001b[39mtext\u001b[39;49m\u001b[39m'\u001b[39;49m]) \u001b[39mfor\u001b[39;00m i \u001b[39min\u001b[39;00m sentences]\n\u001b[0;32m      <a href='vscode-notebook-cell:/d%3A/proj/tugas-akhir1/BARTABSA/final_data/new_data/test.ipynb#X15sZmlsZQ%3D%3D?line=6'>7</a>\u001b[0m     \u001b[39mif\u001b[39;00m typ \u001b[39mis\u001b[39;00m \u001b[39mnot\u001b[39;00m \u001b[39mNone\u001b[39;00m: plts_lst\u001b[39m.\u001b[39mappend([lens, folder])\n\u001b[0;32m      <a href='vscode-notebook-cell:/d%3A/proj/tugas-akhir1/BARTABSA/final_data/new_data/test.ipynb#X15sZmlsZQ%3D%3D?line=7'>8</a>\u001b[0m     \u001b[39mreturn\u001b[39;00m [\u001b[39mmin\u001b[39m(lens), \u001b[39mround\u001b[39m(\u001b[39msum\u001b[39m(lens)\u001b[39m/\u001b[39m\u001b[39mlen\u001b[39m(lens), \u001b[39m2\u001b[39m), \u001b[39mmax\u001b[39m(lens)]\n",
      "\u001b[1;31mKeyError\u001b[0m: 'text'"
     ]
    }
   ],
   "source": [
    "import matplotlib.pyplot as plt\n",
    "\n",
    "plts_lst = []\n",
    "\n",
    "def get_lengths(folder, sentences, typ=None):\n",
    "    lens = [len(i['text']) for i in sentences]\n",
    "    if typ is not None: plts_lst.append([lens, folder])\n",
    "    return [min(lens), round(sum(lens)/len(lens), 2), max(lens)]\n",
    "\n",
    "\n",
    "for folder in os.listdir('../../final_data/'):\n",
    "  if folder != 'pengb' and folder != 'new_data':\n",
    "      print(folder)\n",
    "      with open(f'../../final_data/{folder}/t1.json') as f: train = json.load(f)\n",
    "      with open(f'../../final_data/{folder}/d1.json') as f: dev = json.load(f)\n",
    "      with open(f'../../final_data/{folder}/f1.json') as f: test = json.load(f)\n",
    "      # print(f'{len(train)}, {len(dev)}, {len(test)}')\n",
    "      print(get_lengths(folder, train, 'train'), get_lengths(folder, dev), get_lengths(folder, test))\n",
    "      print()"
   ]
  },
  {
   "cell_type": "code",
   "execution_count": 12,
   "metadata": {},
   "outputs": [
    {
     "data": {
      "text/html": [
       "<div>\n",
       "<style scoped>\n",
       "    .dataframe tbody tr th:only-of-type {\n",
       "        vertical-align: middle;\n",
       "    }\n",
       "\n",
       "    .dataframe tbody tr th {\n",
       "        vertical-align: top;\n",
       "    }\n",
       "\n",
       "    .dataframe thead th {\n",
       "        text-align: right;\n",
       "    }\n",
       "</style>\n",
       "<table border=\"1\" class=\"dataframe\">\n",
       "  <thead>\n",
       "    <tr style=\"text-align: right;\">\n",
       "      <th></th>\n",
       "      <th>opinion_cnt</th>\n",
       "    </tr>\n",
       "  </thead>\n",
       "  <tbody>\n",
       "    <tr>\n",
       "      <th>count</th>\n",
       "      <td>9640.000000</td>\n",
       "    </tr>\n",
       "    <tr>\n",
       "      <th>mean</th>\n",
       "      <td>0.559751</td>\n",
       "    </tr>\n",
       "    <tr>\n",
       "      <th>std</th>\n",
       "      <td>1.036905</td>\n",
       "    </tr>\n",
       "    <tr>\n",
       "      <th>min</th>\n",
       "      <td>0.000000</td>\n",
       "    </tr>\n",
       "    <tr>\n",
       "      <th>25%</th>\n",
       "      <td>0.000000</td>\n",
       "    </tr>\n",
       "    <tr>\n",
       "      <th>50%</th>\n",
       "      <td>0.000000</td>\n",
       "    </tr>\n",
       "    <tr>\n",
       "      <th>75%</th>\n",
       "      <td>1.000000</td>\n",
       "    </tr>\n",
       "    <tr>\n",
       "      <th>max</th>\n",
       "      <td>17.000000</td>\n",
       "    </tr>\n",
       "  </tbody>\n",
       "</table>\n",
       "</div>"
      ],
      "text/plain": [
       "       opinion_cnt\n",
       "count  9640.000000\n",
       "mean      0.559751\n",
       "std       1.036905\n",
       "min       0.000000\n",
       "25%       0.000000\n",
       "50%       0.000000\n",
       "75%       1.000000\n",
       "max      17.000000"
      ]
     },
     "execution_count": 12,
     "metadata": {},
     "output_type": "execute_result"
    }
   ],
   "source": [
    "df.describe()"
   ]
  },
  {
   "cell_type": "code",
   "execution_count": 22,
   "metadata": {},
   "outputs": [],
   "source": [
    "df1 = pd.read_json('ddx.json')\n",
    "df2 = pd.read_json('ddx1.json')"
   ]
  },
  {
   "cell_type": "code",
   "execution_count": 24,
   "metadata": {},
   "outputs": [
    {
     "data": {
      "text/html": [
       "<div>\n",
       "<style scoped>\n",
       "    .dataframe tbody tr th:only-of-type {\n",
       "        vertical-align: middle;\n",
       "    }\n",
       "\n",
       "    .dataframe tbody tr th {\n",
       "        vertical-align: top;\n",
       "    }\n",
       "\n",
       "    .dataframe thead th {\n",
       "        text-align: right;\n",
       "    }\n",
       "</style>\n",
       "<table border=\"1\" class=\"dataframe\">\n",
       "  <thead>\n",
       "    <tr style=\"text-align: right;\">\n",
       "      <th></th>\n",
       "      <th>sent_id</th>\n",
       "      <th>raw_words</th>\n",
       "      <th>words</th>\n",
       "      <th>aspects</th>\n",
       "      <th>holder</th>\n",
       "      <th>opinions</th>\n",
       "    </tr>\n",
       "  </thead>\n",
       "  <tbody>\n",
       "  </tbody>\n",
       "</table>\n",
       "</div>"
      ],
      "text/plain": [
       "Empty DataFrame\n",
       "Columns: [sent_id, raw_words, words, aspects, holder, opinions]\n",
       "Index: []"
      ]
     },
     "execution_count": 24,
     "metadata": {},
     "output_type": "execute_result"
    }
   ],
   "source": [
    "df1[df1[\"opinions\"] == '[]']"
   ]
  },
  {
   "cell_type": "code",
   "execution_count": 21,
   "metadata": {},
   "outputs": [],
   "source": [
    "df.to_json(r'ddxx2.json', orient='records')"
   ]
  },
  {
   "cell_type": "code",
   "execution_count": 11,
   "metadata": {},
   "outputs": [],
   "source": [
    "from tqdm import tqdm\n",
    "import os, json\n",
    "\n",
    "NULL_TOKEN = 'NA'\n",
    "START_WORD = 'NA '\n",
    "NULL_INDEX = 0\n",
    "\n",
    "def char2word_offset(sent, start_end_str):\n",
    "    start, end = [int(i) for i in start_end_str.split(':')]\n",
    "    start, end = start+len(START_WORD), end+len(START_WORD)\n",
    "    word_start, word_end = None, None\n",
    "    space_count = 0\n",
    "    for i in range(len(sent)):\n",
    "        if sent[i]==' ': space_count += 1\n",
    "        if i>=start and word_start is None: word_start = space_count\n",
    "        if i>=end and word_start is not None: word_end = space_count; break\n",
    "    if word_end is None and word_start is not None: word_end = space_count+1\n",
    "    assert (type(word_start) == type(word_end))\n",
    "    if word_start is None: word_start, word_end = NULL_INDEX, NULL_INDEX+1\n",
    "    return int(word_start), int(word_end)\n",
    "\n",
    "def format_convert(original_data, file, threshold=0):\n",
    "    final_data = []\n",
    "    blank_cnt = 0\n",
    "    if 't1' in file: print(f'{threshold} limit for null opinions')\n",
    "    threshold *= len(original_data)\n",
    "\n",
    "    for row in tqdm(original_data):\n",
    "        data = {}\n",
    "        if 't1' in file:\n",
    "            if blank_cnt <= threshold and len(row['opinions'])==0: blank_cnt += 1\n",
    "            elif len(row['opinions'])==0: continue\n",
    "\n",
    "        row['text'] = START_WORD + row['text']\n",
    "        data['sent_id'] = row['sent_id']\n",
    "        data['raw_words'] = row['text']\n",
    "        data['words'] = data['raw_words'].split()\n",
    "        aspects, holders, opinions = [], [], []\n",
    "\n",
    "        for cnt, original_opinion in enumerate(row['opinions']):\n",
    "            aspect, holder, opinion = {}, {}, {}\n",
    "            aspect['index'], holder['index'], opinion['index'] = cnt, cnt, cnt\n",
    "\n",
    "            ############################################# Aspect #############################################\n",
    "            try:aspect['from'], aspect['to'] = char2word_offset(data['raw_words'], original_opinion['Target'][1][0])\n",
    "            except: aspect['from'], aspect['to'] = NULL_INDEX, NULL_INDEX+1\n",
    "            if aspect['from'] == aspect['to']-1 == NULL_INDEX:\n",
    "                aspect['term'] = NULL_TOKEN\n",
    "            else:\n",
    "                aspect['term'] = original_opinion['Target'][0][0]\n",
    "\n",
    "            try: aspect['Polarity'] = str(original_opinion['Polarity'])\n",
    "            except: aspect['Polarity'] = NULL_TOKEN; print(original_opinion)\n",
    "            try: aspect['Intensity'] = str(original_opinion['Intensity'])\n",
    "            except: aspect['Intensity'] = NULL_TOKEN; print(original_opinion)\n",
    "\n",
    "            ############################################# Holder #############################################\n",
    "            try:holder['from'], holder['to'] = char2word_offset(data['raw_words'], original_opinion['Source'][1][0])\n",
    "            except: holder['from'], holder['to'] = NULL_INDEX, NULL_INDEX+1\n",
    "            if holder['from'] == holder['to']-1 == NULL_INDEX:\n",
    "                holder['term'] = NULL_TOKEN\n",
    "            else:\n",
    "                holder['term']  = original_opinion['Source'][0][0]\n",
    "\n",
    "            ############################################# Opinion #############################################\n",
    "            try:opinion['from'], opinion['to'] = char2word_offset(data['raw_words'], original_opinion['Polar_expression'][1][0])\n",
    "            except: opinion['from'], opinion['to'] = NULL_INDEX, NULL_INDEX+1\n",
    "            if opinion['from'] == opinion['to']-1 == NULL_INDEX:\n",
    "                opinion['term'] = NULL_TOKEN\n",
    "            else:\n",
    "                opinion['term'] = original_opinion['Polar_expression'][0][0]\n",
    "\n",
    "            aspects.append(aspect)\n",
    "            holders.append(holder)\n",
    "            opinions.append(opinion)\n",
    "\n",
    "        if len(aspects) == 0:\n",
    "            tmp = {}; tmp['index'] = 0; tmp['from']=NULL_INDEX; tmp['to']=NULL_INDEX+1\n",
    "            for k in 'term Polarity Intensity'.split(): tmp[k]=NULL_TOKEN\n",
    "            aspects = [tmp]\n",
    "        if len(holders) == 0:\n",
    "            tmp = {}; tmp['index'] = 0; tmp['from']=NULL_INDEX; tmp['to']=NULL_INDEX+1\n",
    "            for k in 'term'.split(): tmp[k]=NULL_TOKEN\n",
    "            holders = [tmp]\n",
    "        if len(opinions) == 0:\n",
    "            tmp = {}; tmp['index'] = 0; tmp['from']=NULL_INDEX; tmp['to']=NULL_INDEX+1\n",
    "            for k in 'term'.split(): tmp[k]=NULL_TOKEN\n",
    "            opinions = [tmp]\n",
    "\n",
    "        data['aspects'] = aspects\n",
    "        data['holder'] = holders\n",
    "        data['opinions'] = opinions\n",
    "        final_data.append(data)\n",
    "\n",
    "    return final_data"
   ]
  },
  {
   "cell_type": "code",
   "execution_count": 12,
   "metadata": {},
   "outputs": [
    {
     "name": "stderr",
     "output_type": "stream",
     "text": [
      "100%|██████████| 232/232 [00:00<00:00, 68851.52it/s]\n"
     ]
    },
    {
     "name": "stdout",
     "output_type": "stream",
     "text": [
      "../../final_data/darmstadt_unis/dev_convert.json\n",
      "\n"
     ]
    },
    {
     "name": "stderr",
     "output_type": "stream",
     "text": [
      "100%|██████████| 318/318 [00:00<00:00, 105973.99it/s]\n"
     ]
    },
    {
     "name": "stdout",
     "output_type": "stream",
     "text": [
      "../../final_data/darmstadt_unis/test_convert.json\n",
      "\n",
      "0.2 limit for null opinions\n"
     ]
    },
    {
     "name": "stderr",
     "output_type": "stream",
     "text": [
      "100%|██████████| 2253/2253 [00:00<00:00, 118547.38it/s]\n"
     ]
    },
    {
     "name": "stdout",
     "output_type": "stream",
     "text": [
      "../../final_data/darmstadt_unis/train_convert.json\n",
      "\n"
     ]
    },
    {
     "name": "stderr",
     "output_type": "stream",
     "text": [
      "100%|██████████| 1997/1997 [00:00<00:00, 90702.63it/s]\n"
     ]
    },
    {
     "name": "stdout",
     "output_type": "stream",
     "text": [
      "../../final_data/mpqa/dev_convert.json\n",
      "\n"
     ]
    },
    {
     "name": "stderr",
     "output_type": "stream",
     "text": [
      "100%|██████████| 2055/2055 [00:00<00:00, 82182.44it/s]"
     ]
    },
    {
     "name": "stdout",
     "output_type": "stream",
     "text": [
      "../../final_data/mpqa/test_convert.json\n"
     ]
    },
    {
     "name": "stderr",
     "output_type": "stream",
     "text": [
      "\n"
     ]
    },
    {
     "name": "stdout",
     "output_type": "stream",
     "text": [
      "\n",
      "0.1 limit for null opinions\n"
     ]
    },
    {
     "name": "stderr",
     "output_type": "stream",
     "text": [
      "100%|██████████| 5643/5643 [00:00<00:00, 121450.20it/s]"
     ]
    },
    {
     "name": "stdout",
     "output_type": "stream",
     "text": [
      "../../final_data/mpqa/train_convert.json\n"
     ]
    },
    {
     "name": "stderr",
     "output_type": "stream",
     "text": [
      "\n"
     ]
    },
    {
     "name": "stdout",
     "output_type": "stream",
     "text": [
      "\n"
     ]
    },
    {
     "name": "stderr",
     "output_type": "stream",
     "text": [
      "100%|██████████| 167/167 [00:00<00:00, 33890.50it/s]\n"
     ]
    },
    {
     "name": "stdout",
     "output_type": "stream",
     "text": [
      "../../final_data/multibooked_ca/dev_convert.json\n",
      "\n"
     ]
    },
    {
     "name": "stderr",
     "output_type": "stream",
     "text": [
      "100%|██████████| 335/335 [00:00<00:00, 41804.52it/s]\n"
     ]
    },
    {
     "name": "stdout",
     "output_type": "stream",
     "text": [
      "../../final_data/multibooked_ca/test_convert.json\n",
      "\n",
      "0.15 limit for null opinions\n"
     ]
    },
    {
     "name": "stderr",
     "output_type": "stream",
     "text": [
      "100%|██████████| 1174/1174 [00:00<00:00, 35558.81it/s]"
     ]
    },
    {
     "name": "stdout",
     "output_type": "stream",
     "text": [
      "../../final_data/multibooked_ca/train_convert.json\n"
     ]
    },
    {
     "name": "stderr",
     "output_type": "stream",
     "text": [
      "\n"
     ]
    },
    {
     "name": "stdout",
     "output_type": "stream",
     "text": [
      "\n"
     ]
    },
    {
     "name": "stderr",
     "output_type": "stream",
     "text": [
      "100%|██████████| 152/152 [00:00<00:00, 50650.21it/s]\n"
     ]
    },
    {
     "name": "stdout",
     "output_type": "stream",
     "text": [
      "../../final_data/multibooked_eu/dev_convert.json\n",
      "\n"
     ]
    },
    {
     "name": "stderr",
     "output_type": "stream",
     "text": [
      "100%|██████████| 305/305 [00:00<00:00, 43484.24it/s]"
     ]
    },
    {
     "name": "stdout",
     "output_type": "stream",
     "text": [
      "../../final_data/multibooked_eu/test_convert.json\n",
      "\n"
     ]
    },
    {
     "name": "stderr",
     "output_type": "stream",
     "text": [
      "\n"
     ]
    },
    {
     "name": "stdout",
     "output_type": "stream",
     "text": [
      "0.07 limit for null opinions\n"
     ]
    },
    {
     "name": "stderr",
     "output_type": "stream",
     "text": [
      "100%|██████████| 1063/1063 [00:00<00:00, 48322.73it/s]\n"
     ]
    },
    {
     "name": "stdout",
     "output_type": "stream",
     "text": [
      "../../final_data/multibooked_eu/train_convert.json\n",
      "\n"
     ]
    },
    {
     "name": "stderr",
     "output_type": "stream",
     "text": [
      "100%|██████████| 1531/1531 [00:00<00:00, 58838.16it/s]\n"
     ]
    },
    {
     "name": "stdout",
     "output_type": "stream",
     "text": [
      "../../final_data/norec/dev_convert.json\n",
      "\n"
     ]
    },
    {
     "name": "stderr",
     "output_type": "stream",
     "text": [
      "100%|██████████| 1272/1272 [00:00<00:00, 50865.25it/s]"
     ]
    },
    {
     "name": "stdout",
     "output_type": "stream",
     "text": [
      "../../final_data/norec/test_convert.json\n",
      "\n"
     ]
    },
    {
     "name": "stderr",
     "output_type": "stream",
     "text": [
      "\n"
     ]
    },
    {
     "name": "stdout",
     "output_type": "stream",
     "text": [
      "0.3 limit for null opinions\n"
     ]
    },
    {
     "name": "stderr",
     "output_type": "stream",
     "text": [
      "100%|██████████| 8634/8634 [00:00<00:00, 38364.37it/s]\n"
     ]
    },
    {
     "name": "stdout",
     "output_type": "stream",
     "text": [
      "../../final_data/norec/train_convert.json\n",
      "\n"
     ]
    },
    {
     "name": "stderr",
     "output_type": "stream",
     "text": [
      "100%|██████████| 249/249 [00:00<00:00, 35576.43it/s]\n"
     ]
    },
    {
     "name": "stdout",
     "output_type": "stream",
     "text": [
      "../../final_data/opener_en/dev_convert.json\n",
      "\n"
     ]
    },
    {
     "name": "stderr",
     "output_type": "stream",
     "text": [
      "100%|██████████| 499/499 [00:00<00:00, 36380.92it/s]\n"
     ]
    },
    {
     "name": "stdout",
     "output_type": "stream",
     "text": [
      "../../final_data/opener_en/test_convert.json\n",
      "\n",
      "0 limit for null opinions\n"
     ]
    },
    {
     "name": "stderr",
     "output_type": "stream",
     "text": [
      "100%|██████████| 1744/1744 [00:00<00:00, 44718.18it/s]"
     ]
    },
    {
     "name": "stdout",
     "output_type": "stream",
     "text": [
      "../../final_data/opener_en/train_convert.json\n"
     ]
    },
    {
     "name": "stderr",
     "output_type": "stream",
     "text": [
      "\n"
     ]
    },
    {
     "name": "stdout",
     "output_type": "stream",
     "text": [
      "\n"
     ]
    },
    {
     "name": "stderr",
     "output_type": "stream",
     "text": [
      "100%|██████████| 206/206 [00:00<00:00, 34324.91it/s]\n"
     ]
    },
    {
     "name": "stdout",
     "output_type": "stream",
     "text": [
      "../../final_data/opener_es/dev_convert.json\n",
      "\n"
     ]
    },
    {
     "name": "stderr",
     "output_type": "stream",
     "text": [
      "100%|██████████| 410/410 [00:00<00:00, 21567.25it/s]\n"
     ]
    },
    {
     "name": "stdout",
     "output_type": "stream",
     "text": [
      "../../final_data/opener_es/test_convert.json\n",
      "\n",
      "0.06 limit for null opinions\n"
     ]
    },
    {
     "name": "stderr",
     "output_type": "stream",
     "text": [
      "100%|██████████| 1438/1438 [00:00<00:00, 28189.69it/s]\n"
     ]
    },
    {
     "name": "stdout",
     "output_type": "stream",
     "text": [
      "../../final_data/opener_es/train_convert.json\n",
      "\n"
     ]
    }
   ],
   "source": [
    "null_dict = {\n",
    "    'mpqa': 0.1,\n",
    "    'darmstadt_unis': 0.2,\n",
    "    'norec': 0.3,\n",
    "    'opener_en': 0,\n",
    "    'multibooked_eu': 0.07,\n",
    "    'multibooked_ca': 0.15,\n",
    "    'opener_es': 0.06,\n",
    "    \"eng_combined\": 0.1\n",
    "}\n",
    "\n",
    "for folder in os.listdir('../../final_data'):\n",
    "    for file in os.listdir(f'../../final_data/{folder}'):\n",
    "        if '1.' not in file: continue\n",
    "        with open(f'../../final_data/{folder}/{file}', encoding=\"utf8\") as f: data = json.load(f)\n",
    "\n",
    "        data = format_convert(data, file, null_dict[folder])\n",
    "        if 't1' in file: dest = 'train_convert.json'\n",
    "        elif 'd1' in file: dest = 'dev_convert.json'\n",
    "        elif 'f1' in file: dest = 'test_convert.json'\n",
    "        print(f'../../final_data/{folder}/{dest}')\n",
    "        with open(f'../../final_data/{folder}/{dest}', 'w') as f:\n",
    "            json.dump(data, f)\n",
    "        print()"
   ]
  },
  {
   "cell_type": "code",
   "execution_count": 14,
   "metadata": {},
   "outputs": [
    {
     "name": "stdout",
     "output_type": "stream",
     "text": [
      "darmstadt_unis\td1.json \t 64.66 %\n",
      "darmstadt_unis\tdev_convert.json \t 64.66 %\n",
      "darmstadt_unis\tf1.json \t 67.3 %\n",
      "darmstadt_unis\tnew_ril.json \t 39.84 %\n",
      "darmstadt_unis\triil.json \t 39.84 %\n",
      "darmstadt_unis\tril.json \t 39.84 %\n",
      "darmstadt_unis\tt1.json \t 69.77 %\n",
      "darmstadt_unis\ttest_convert.json \t 67.3 %\n",
      "darmstadt_unis\ttrain_convert.json \t 23.37 %\n",
      "mpqa\td1.json \t 79.17 %\n",
      "mpqa\tdev_convert.json \t 79.17 %\n",
      "mpqa\tf1.json \t 81.02 %\n",
      "mpqa\tnew_ril.json \t 31.06 %\n",
      "mpqa\triil.json \t 31.92 %\n",
      "mpqa\tril.json \t 65.21 %\n",
      "mpqa\tt1.json \t 77.78 %\n",
      "mpqa\ttest_convert.json \t 81.02 %\n",
      "mpqa\ttrain_convert.json \t 23.37 %\n",
      "multibooked_ca\td1.json \t 16.17 %\n",
      "multibooked_ca\tddxx.json \t 0.0 %\n",
      "multibooked_ca\tddxx2.json \t 0.0 %\n",
      "multibooked_ca\tdev_convert.json \t 16.17 %\n",
      "multibooked_ca\tf1.json \t 16.12 %\n",
      "multibooked_ca\tt1.json \t 14.65 %\n",
      "multibooked_ca\ttest_convert.json \t 16.12 %\n",
      "multibooked_ca\ttrain_convert.json \t 14.65 %\n",
      "multibooked_eu\td1.json \t 21.05 %\n",
      "multibooked_eu\tddxx.json \t 0.0 %\n",
      "multibooked_eu\tddxx2.json \t 0.0 %\n",
      "multibooked_eu\tdev_convert.json \t 21.05 %\n",
      "multibooked_eu\tf1.json \t 21.31 %\n",
      "multibooked_eu\tt1.json \t 15.43 %\n",
      "multibooked_eu\ttest_convert.json \t 21.31 %\n",
      "multibooked_eu\ttrain_convert.json \t 7.7 %\n",
      "norec\td1.json \t 46.37 %\n",
      "norec\tddxx.json \t 0.0 %\n",
      "norec\tddxx2.json \t 0.0 %\n",
      "norec\tdev_convert.json \t 46.37 %\n",
      "norec\tf1.json \t 47.01 %\n",
      "norec\tt1.json \t 47.24 %\n",
      "norec\ttest_convert.json \t 47.01 %\n",
      "norec\ttrain_convert.json \t 36.26 %\n",
      "opener_en\td1.json \t 20.48 %\n",
      "opener_en\tdev_convert.json \t 20.48 %\n",
      "opener_en\tf1.json \t 18.44 %\n",
      "opener_en\tnew_ril.json \t 0.07 %\n",
      "opener_en\triil.json \t 0.07 %\n",
      "opener_en\tril.json \t 0.07 %\n",
      "opener_en\tt1.json \t 19.72 %\n",
      "opener_en\ttest_convert.json \t 18.44 %\n",
      "opener_en\ttrain_convert.json \t 23.37 %\n",
      "opener_es\td1.json \t 15.53 %\n",
      "opener_es\tddxx.json \t 0.0 %\n",
      "opener_es\tddxx2.json \t 0.0 %\n",
      "opener_es\tdev_convert.json \t 15.53 %\n",
      "opener_es\tf1.json \t 11.71 %\n",
      "opener_es\tt1.json \t 12.93 %\n",
      "opener_es\ttest_convert.json \t 11.71 %\n",
      "opener_es\ttrain_convert.json \t 6.5 %\n"
     ]
    }
   ],
   "source": [
    "for folder in os.listdir('../../final_data'):\n",
    "    if 'eng_combined' in folder or 'cross' in folder: continue\n",
    "    if folder != 'pengb' and folder != 'new_data':\n",
    "# for folder in 'norec mpqa'.split():\n",
    "      for file in os.listdir(f'../../final_data/{folder}'):\n",
    "          # if 'd1.' not in file: continue\n",
    "          with open(f'../../final_data/{folder}/{file}', encoding=\"utf8\") as f: data = json.load(f)\n",
    "          print(folder, end='\\t')\n",
    "          null_cnt = 0\n",
    "          if 'convert' in file or 'ril' in file or 'riil' in file:\n",
    "              for row in data:\n",
    "                if len(row['opinions']) == 1 and row['opinions'][0]['term'] == \"NA\": null_cnt+=1\n",
    "              pass\n",
    "          else:\n",
    "            for row in data:\n",
    "                if row['opinions'] == []: null_cnt+=1\n",
    "          print(file, '\\t', round(null_cnt/len(data)*100, 2), '%')"
   ]
  },
  {
   "cell_type": "code",
   "execution_count": null,
   "metadata": {},
   "outputs": [],
   "source": []
  }
 ],
 "metadata": {
  "kernelspec": {
   "display_name": "Python 3",
   "language": "python",
   "name": "python3"
  },
  "language_info": {
   "codemirror_mode": {
    "name": "ipython",
    "version": 3
   },
   "file_extension": ".py",
   "mimetype": "text/x-python",
   "name": "python",
   "nbconvert_exporter": "python",
   "pygments_lexer": "ipython3",
   "version": "3.10.2"
  },
  "orig_nbformat": 4
 },
 "nbformat": 4,
 "nbformat_minor": 2
}
